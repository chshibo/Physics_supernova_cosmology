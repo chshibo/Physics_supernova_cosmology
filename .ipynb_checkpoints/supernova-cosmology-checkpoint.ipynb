{
 "cells": [
  {
   "cell_type": "code",
   "execution_count": null,
   "metadata": {
    "collapsed": true
   },
   "outputs": [],
   "source": [
    "#This Supernova Cosmology project program\n",
    "#Free for all kinds of use, change and redistribution\n",
    "#Copyleft (Though I don't really know what it means)\n",
    "#Created by Shibo Chen, October 31, 2016 @ University of Michigan\n",
    "#Multi-contributors as shown in the list below"
   ]
  },
  {
   "cell_type": "code",
   "execution_count": null,
   "metadata": {
    "collapsed": true
   },
   "outputs": [],
   "source": [
    "%matplotlib inline\n",
    "from pylab import *"
   ]
  },
  {
   "cell_type": "code",
   "execution_count": 11,
   "metadata": {
    "collapsed": false
   },
   "outputs": [],
   "source": [
    "#I don't know much about jupyter so let's use it as a web-based python :)\n",
    "#first, let's create a class\n",
    "\n",
    "class Supernova():\n",
    "    \n",
    "    #init the supernova\n",
    "    def __init__(self,redshift,magnitude,errinMagnitude):\n",
    "        self.redshift=redshift\n",
    "        self.magnitude=magnitude\n",
    "        self.errinMagnitude=errinMagnitude\n",
    "        \n",
    "    #This function will return the computed magnitude.\n",
    "    #if you don't give Omage DE, it will assume it is a flat universe\n",
    "    #And I really hate python, why I can't declare something as const\n",
    "    def computedMagnitude(self,omegaMatter,omegaDarkEnergy=None):\n",
    "        if omegaDarkEnergy==None:\n",
    "            omegaDarkEnergy=1-omegaMatter\n",
    "    \n",
    "    #I don't know what is going on here on Jupyter so I created a getter method explicitly\n",
    "    def getAttribute(self,attr):\n",
    "        if attr==\"redshift\":\n",
    "            return self.redshift\n",
    "        elif attr==\"magnitude\":\n",
    "            return self.magnitude;\n",
    "        elif attr==\"errinMagnitude\":\n",
    "            return self.errinMagnitude\n",
    "        else:\n",
    "            return \"no attribute \"+attr+\" found in supernova\"\n",
    "        \n",
    "        \n",
    "\n",
    "#Then we create a empty list to store supernovas\n",
    "supernovas=[]\n",
    "\n",
    "#Open the file \n",
    "dataFile=open('SupernovaData','r')\n",
    "\n",
    "#read in the data line by line and push the supernovas into our list\n",
    "for line in dataFile:\n",
    "    datas=line.split()\n",
    "    \n",
    "    redshift=float(datas[1])\n",
    "    magnitude=float(datas[2])\n",
    "    errinMagnitude=float(datas[3])\n",
    "    \n",
    "    supernova=Supernova(redshift,magnitude,errinMagnitude)\n",
    "    supernovas.append(supernova)\n",
    "    \n",
    "dataFile.close()"
   ]
  },
  {
   "cell_type": "code",
   "execution_count": 20,
   "metadata": {
    "collapsed": false
   },
   "outputs": [
    {
     "name": "stdout",
     "output_type": "stream",
     "text": [
      "0.606530659713\n"
     ]
    }
   ],
   "source": [
    "#this cell is for the mission 1\n",
    "#okay 3,2,1 lauch!!\n",
    "HUBBLE_CONSTANT=67.6\n",
    "import numpy as np\n",
    "import scipy as sp\n",
    "#First, let's define a function for H\n",
    "def func_HubbleforCaseOne(redshift,omegaM):\n",
    "    return HUBBLE_CONSTANT*np.sqrt(omegaM*np.power(1+redshift,3)+1-omegaM)\n",
    "\n",
    "def func_cdivideH(redshift,omegaM):\n",
    "    \n",
    "\n",
    "#Then, let's do some  integration\n",
    "def comovingDistance(OmegaM,redshift):\n",
    "    return sp.intergrate.quad(HubbleforCaseOne,0,redshift,args=())\n",
    "\n",
    "#define chi\n",
    "def\n",
    "\n",
    "def func_likelyhood(chisquared):\n",
    "    return np.exp(-np.square(chisquared)/2)"
   ]
  },
  {
   "cell_type": "code",
   "execution_count": null,
   "metadata": {
    "collapsed": true
   },
   "outputs": [],
   "source": []
  }
 ],
 "metadata": {
  "anaconda-cloud": {},
  "kernelspec": {
   "display_name": "Python [default]",
   "language": "python",
   "name": "python3"
  },
  "language_info": {
   "codemirror_mode": {
    "name": "ipython",
    "version": 3
   },
   "file_extension": ".py",
   "mimetype": "text/x-python",
   "name": "python",
   "nbconvert_exporter": "python",
   "pygments_lexer": "ipython3",
   "version": "3.5.2"
  }
 },
 "nbformat": 4,
 "nbformat_minor": 0
}
